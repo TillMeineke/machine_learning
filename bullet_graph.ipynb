{
 "cells": [
  {
   "cell_type": "markdown",
   "source": [
    "# https://pbpython.com/bullet-graph.html"
   ],
   "metadata": {}
  },
  {
   "cell_type": "code",
   "execution_count": 1,
   "source": [
    "import matplotlib.pyplot as plt\n",
    "import seaborn as sns\n",
    "from matplotlib.ticker import FuncFormatter\n",
    "\n",
    "%matplotlib inline"
   ],
   "outputs": [],
   "metadata": {}
  },
  {
   "cell_type": "code",
   "execution_count": 2,
   "source": [
    "# display a palette of 5 shades of green\n",
    "sns.palplot(sns.light_palette(\"green\", 5))"
   ],
   "outputs": [
    {
     "output_type": "display_data",
     "data": {
      "image/png": "[encoded data removed]",
      "text/plain": [
       "<Figure size 360x72 with 1 Axes>"
      ]
     },
     "metadata": {
      "needs_background": "light"
     }
    }
   ],
   "metadata": {}
  },
  {
   "cell_type": "code",
   "execution_count": 3,
   "source": [
    "# 8 different shades of purple in reverse order\n",
    "sns.palplot(sns.light_palette(\"purple\", 8, reverse=True))"
   ],
   "outputs": [
    {
     "output_type": "display_data",
     "data": {
      "image/png": "[encoded data removed]",
      "text/plain": [
       "<Figure size 576x72 with 1 Axes>"
      ]
     },
     "metadata": {
      "needs_background": "light"
     }
    }
   ],
   "metadata": {}
  },
  {
   "cell_type": "code",
   "execution_count": 4,
   "source": [
    "# define the values we want to plot\n",
    "limits = [80, 100, 150] # 3 ranges: 0-80, 81-100, 101-150\n",
    "data_to_plot = (\"Example 1\", 105, 120) #“Example” line with a value of 105 and target line of 120"
   ],
   "outputs": [],
   "metadata": {}
  },
  {
   "cell_type": "code",
   "execution_count": 5,
   "source": [
    "# blues color palette\n",
    "palette = sns.color_palette(\"Blues_r\", len(limits))"
   ],
   "outputs": [],
   "metadata": {}
  },
  {
   "cell_type": "code",
   "execution_count": 6,
   "source": [
    "# build the stacked bar chart of the ranges\n",
    "fig, ax = plt.subplots()\n",
    "ax.set_aspect('equal')\n",
    "ax.set_yticks([1])\n",
    "ax.set_yticklabels([data_to_plot[0]])\n",
    "ax.axvline(data_to_plot[2], color=\"gray\", ymin=0.10, ymax=0.9)\n",
    "\n",
    "prev_limit = 0\n",
    "for idx, lim in enumerate(limits):\n",
    "    ax.barh([1], lim-prev_limit, left=prev_limit, height=15, color=palette[idx])\n",
    "    prev_limit = lim"
   ],
   "outputs": [
    {
     "output_type": "display_data",
     "data": {
      "image/png": "[encoded data removed]",
      "text/plain": [
       "<Figure size 432x288 with 1 Axes>"
      ]
     },
     "metadata": {
      "needs_background": "light"
     }
    }
   ],
   "metadata": {}
  },
  {
   "cell_type": "code",
   "execution_count": 7,
   "source": [
    "# Draw the value we're measuring\n",
    "ax.barh([1], data_to_plot[1], color='black', height=5)"
   ],
   "outputs": [
    {
     "output_type": "execute_result",
     "data": {
      "text/plain": [
       "<BarContainer object of 1 artists>"
      ]
     },
     "metadata": {},
     "execution_count": 7
    }
   ],
   "metadata": {}
  },
  {
   "cell_type": "code",
   "execution_count": 8,
   "source": [
    "ax.axvline(data_to_plot[2], color=\"gray\", ymin=0.10, ymax=0.9)\n"
   ],
   "outputs": [
    {
     "output_type": "execute_result",
     "data": {
      "text/plain": [
       "<matplotlib.lines.Line2D at 0x7faeb8388520>"
      ]
     },
     "metadata": {},
     "execution_count": 8
    }
   ],
   "metadata": {}
  },
  {
   "cell_type": "code",
   "execution_count": null,
   "source": [],
   "outputs": [],
   "metadata": {}
  }
 ],
 "metadata": {
  "orig_nbformat": 4,
  "language_info": {
   "name": "python",
   "version": "3.8.5",
   "mimetype": "text/x-python",
   "codemirror_mode": {
    "name": "ipython",
    "version": 3
   },
   "pygments_lexer": "ipython3",
   "nbconvert_exporter": "python",
   "file_extension": ".py"
  },
  "kernelspec": {
   "name": "python3",
   "display_name": "Python 3.8.5 64-bit ('nf_base': conda)"
  },
  "interpreter": {
   "hash": "c139a75cc8dae992304ab3ada080de3eb753da1fe0c8e2df6994f5f240f03143"
  }
 },
 "nbformat": 4,
 "nbformat_minor": 2
}
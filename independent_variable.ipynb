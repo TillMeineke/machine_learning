{
 "cells": [
  {
   "cell_type": "markdown",
   "metadata": {},
   "source": [
    "# [How to identify the right independent variables for Machine Learning Supervised Algorithms?](https://towardsdatascience.com/how-to-identify-the-right-independent-variables-for-machine-learning-supervised-algorithms-439986562d32)\n"
   ]
  },
  {
   "cell_type": "markdown",
   "metadata": {},
   "source": [
    "There is a very famous acronym GIGO in the field of computer science which I have learnt in my school days. GIGO stands for garbage in and garbages out. Essentially it means that if we feed inappropriate and junk data to computer programs and algorithms, then it will result in junk and incorrect results.\n",
    "Machine learning algorithms are the same as us human beings. Broadly machine learning algorithms have two phases — learning and predicting. \n",
    "\n",
    "Learning environment and parameters should be similar to the condition in which prediction to be done in future. Algorithms trained on an unbiased data sample, and permutations of the input variables values a true reflection of full population dataset are well equipped to make an accurate prediction.\n",
    "\n",
    "One of the cornerstones for the success of the Supervised machine learning algorithms is selecting the right set of the independent variable for the learning phase. In this article, I will discuss a structured approach to select the right independent variables to feed the algorithms. We do not want to overfeed redundant data points i.e. highly related (**Multicollinearity**) data and complicate the model without increasing the prediction accuracy. In fact, sometime overfeeding the data can decrease the prediction accuracy. On the other hand, we need to make sure that the model is not oversimplified and reflects true complexity.\n",
    "\n",
    "---"
   ]
  },
  {
   "cell_type": "markdown",
   "metadata": {},
   "source": [
    "## Objective"
   ]
  },
  {
   "cell_type": "markdown",
   "metadata": {},
   "source": [
    "We want to build a model to predict the stock price of the company ASML. We have downloaded the stock price data of few of the ASML’s customer, competitors and index points for the last 20 years. We are not sure which of these data points to include to build the ASML stock prediction model."
   ]
  },
  {
   "cell_type": "markdown",
   "metadata": {},
   "source": [
    "## Sample Data File"
   ]
  },
  {
   "cell_type": "markdown",
   "metadata": {},
   "source": [
    "I have written a small function which I can call from different programs to download the stock price for the last 20 years."
   ]
  },
  {
   "cell_type": "code",
   "execution_count": 68,
   "metadata": {},
   "outputs": [],
   "source": [
    "\"\"\"Filename - GetStockData.py is a function to download the stock from 1st Jan 2000 until current date\"\"\"\n",
    "import datetime as dt\n",
    "import pandas as pd\n",
    "import pandas_datareader.data as web\n",
    "import numpy as np\n",
    "import os\n",
    "import matplotlib.pyplot as plt\n",
    "import seaborn as sns\n",
    "from statsmodels.stats.outliers_influence import variance_inflation_factor\n"
   ]
  },
  {
   "cell_type": "code",
   "execution_count": 3,
   "metadata": {},
   "outputs": [],
   "source": [
    "def stockdata(ticker):\n",
    "    start= dt.datetime(2000,1,1)    ## Start Date Range\n",
    "    end=dt.datetime.now()    ## Curret date as end date Range\n",
    "    Stock=web.DataReader(ticker, \"yahoo\", start, end)\n",
    "    \n",
    "    name=str(ticker) + \".xlsx\"\n",
    "    Stock.to_excel(name)\n",
    "    return ()"
   ]
  },
  {
   "cell_type": "markdown",
   "metadata": {},
   "source": [
    "Function stockdata() is called from another program with ticker symbols to download the data."
   ]
  },
  {
   "cell_type": "code",
   "execution_count": 4,
   "metadata": {},
   "outputs": [],
   "source": [
    "ticker= [\"MU\", \"ASML\",\"TSM\",\"QCOM\", \"UMC\", \"^SOX\", \"INTC\",\"^IXIC\"]\n",
    "for i in ticker:\n",
    "    stockdata(i)"
   ]
  },
  {
   "cell_type": "code",
   "execution_count": 12,
   "metadata": {},
   "outputs": [],
   "source": [
    "# 'path = os.getcwd()\n",
    "# files= os.\n",
    "# files_xls = [f for f in files if f[-3:] == 'xls']\n",
    "# files_xls\n",
    "# \n",
    "# df = pd.DataFrame()\n",
    "# \n",
    "# def excel_to_dataframe(ticker):\n",
    "#     name2=\"data/stock_data/\" + str(ticker) + \".xlsx\"\n",
    "#     df = pd.read_excel(name2).append\n",
    "#     return()\n",
    "# \n",
    "# for j in ticker:\n",
    "#     excel_to_dataframe(j)'"
   ]
  },
  {
   "cell_type": "code",
   "execution_count": 21,
   "metadata": {},
   "outputs": [
    {
     "name": "stderr",
     "output_type": "stream",
     "text": [
      "/var/folders/r8/zdlnr35s6qz6zx67nmc9bdnm0000gn/T/ipykernel_73135/3544605027.py:5: FutureWarning: Passing 'suffixes' which cause duplicate columns {'Low_x', 'High_x', 'Date_x', 'Close_x', 'Adj Close_x', 'Open_x', 'Volume_x'} in the result is deprecated and will raise a MergeError in a future version.\n",
      "  stock_data=pd.merge(stock_data, df, left_index=True, right_index=True)\n"
     ]
    }
   ],
   "source": [
    "files = [file for file in os.listdir('./data/stock_data')]\n",
    "stock_data = pd.DataFrame()\n",
    "for file in files:\n",
    "    df = pd.read_excel(\"./data/stock_data/\"+file)\n",
    "    stock_data=pd.merge(stock_data, df, on=, right_index=True)\n",
    "#all_months_data.to_csv(\"all_data.csv\",index=False)"
   ]
  },
  {
   "cell_type": "code",
   "execution_count": 110,
   "metadata": {},
   "outputs": [],
   "source": [
    "# [\"MU\", \"ASML\",\"TSM\",\"QCOM\", \"UMC\", \"^SOX\", \"INTC\",\"^IXIC\"]\n",
    "df1 = pd.read_excel(\"./data/stock_data/MU.xlsx\")\n",
    "df2 = pd.read_excel(\"./data/stock_data/ASML.xlsx\")\n",
    "df3 = pd.read_excel(\"./data/stock_data/TSM.xlsx\")\n",
    "df4 = pd.read_excel(\"./data/stock_data/QCOM.xlsx\")\n",
    "df5 = pd.read_excel(\"./data/stock_data/UMC.xlsx\")\n",
    "df6 = pd.read_excel(\"./data/stock_data/^SOX.xlsx\")\n",
    "df7 = pd.read_excel(\"./data/stock_data/INTC.xlsx\")\n",
    "df8 = pd.read_excel(\"./data/stock_data/^IXIC.xlsx\")"
   ]
  },
  {
   "cell_type": "code",
   "execution_count": 111,
   "metadata": {},
   "outputs": [
    {
     "name": "stdout",
     "output_type": "stream",
     "text": [
      "        Date      High       Low     Open     Close   Volume  Adj Close\n",
      "0 2000-01-03  39.06250  36.25000  38.6875  37.96875  6564600  37.915749\n",
      "1 2000-01-04  37.90625  36.43750  37.3750  36.50000  7220800  36.449051\n",
      "2 2000-01-05  37.37500  35.03125  36.0625  36.37500  6763800  36.324226\n",
      "3 2000-01-06  37.65625  35.87500  36.3750  37.00000  6338400  36.948353\n",
      "4 2000-01-07  36.87500  34.00000  36.8750  35.25000  9467200  35.200794\n",
      "        Date       High        Low       Open      Close   Volume  Adj Close\n",
      "0 2000-01-03  43.875000  41.906250  43.875000  43.640625  1121600  27.781429\n",
      "1 2000-01-04  42.562500  40.593750  41.953125  40.734375   968800  25.931328\n",
      "2 2000-01-05  39.703125  37.757812  39.281250  39.609375  1458133  25.215149\n",
      "3 2000-01-06  37.593750  35.226562  36.750000  37.171875  3517867  23.663450\n",
      "4 2000-01-07  38.062500  36.656250  36.867188  38.015625  1631200  24.200575\n",
      "        Date       High        Low       Open      Close   Volume  Adj Close\n",
      "0 2000-01-03  18.007015  17.462067  17.912241  17.959627  2062807   9.582471\n",
      "1 2000-01-04  18.670431  17.912241  17.959627  18.078094  2557142   9.645679\n",
      "2 2000-01-05  18.362417  18.078094  18.243950  18.196564  2295467   9.708889\n",
      "3 2000-01-06  17.793774  17.059277  17.770081  17.438372  1539456   9.304352\n",
      "4 2000-01-07  18.196564  17.817467  18.054401  18.101789  1511230   9.658324\n"
     ]
    }
   ],
   "source": [
    "print(df1.head())\n",
    "print(df2.head())\n",
    "print(df3.head())"
   ]
  },
  {
   "cell_type": "code",
   "execution_count": 112,
   "metadata": {},
   "outputs": [],
   "source": [
    "# [\"MU\", \"ASML\",\"TSM\",\"QCOM\", \"UMC\", \"^SOX\", \"INTC\",\"^IXIC\"]\n",
    "data1 = df1.join(df2['Adj Close'],how='outer', lsuffix='_MU', rsuffix='_ASML')\n",
    "data2 = data1.join(df3['Adj Close'],how='outer', rsuffix='_TSM')\n",
    "data3 = data2.join(df4['Adj Close'],how='outer', rsuffix='_QCOM')\n",
    "data4 = data3.join(df5['Adj Close'],how='outer', rsuffix='_UMC')\n",
    "data5 = data4.join(df6['Adj Close'],how='outer', rsuffix='_^SOX')\n",
    "data6 = data5.join(df7['Adj Close'],how='outer', rsuffix='_INTC')\n",
    "data = data6.join(df8['Adj Close'],how='outer', rsuffix='_^IXIC')"
   ]
  },
  {
   "cell_type": "code",
   "execution_count": 113,
   "metadata": {},
   "outputs": [
    {
     "data": {
      "text/html": [
       "<div>\n",
       "<style scoped>\n",
       "    .dataframe tbody tr th:only-of-type {\n",
       "        vertical-align: middle;\n",
       "    }\n",
       "\n",
       "    .dataframe tbody tr th {\n",
       "        vertical-align: top;\n",
       "    }\n",
       "\n",
       "    .dataframe thead th {\n",
       "        text-align: right;\n",
       "    }\n",
       "</style>\n",
       "<table border=\"1\" class=\"dataframe\">\n",
       "  <thead>\n",
       "    <tr style=\"text-align: right;\">\n",
       "      <th></th>\n",
       "      <th>Date</th>\n",
       "      <th>High</th>\n",
       "      <th>Low</th>\n",
       "      <th>Open</th>\n",
       "      <th>Close</th>\n",
       "      <th>Volume</th>\n",
       "      <th>Adj Close_MU</th>\n",
       "      <th>Adj Close_ASML</th>\n",
       "      <th>Adj Close</th>\n",
       "      <th>Adj Close_QCOM</th>\n",
       "      <th>Adj Close_UMC</th>\n",
       "      <th>Adj Close_^SOX</th>\n",
       "      <th>Adj Close_INTC</th>\n",
       "      <th>Adj Close_^IXIC</th>\n",
       "    </tr>\n",
       "  </thead>\n",
       "  <tbody>\n",
       "    <tr>\n",
       "      <th>0</th>\n",
       "      <td>2000-01-03</td>\n",
       "      <td>39.06250</td>\n",
       "      <td>36.25000</td>\n",
       "      <td>38.6875</td>\n",
       "      <td>37.96875</td>\n",
       "      <td>6564600</td>\n",
       "      <td>37.915749</td>\n",
       "      <td>27.781429</td>\n",
       "      <td>9.582471</td>\n",
       "      <td>60.963448</td>\n",
       "      <td>7.933463</td>\n",
       "      <td>712.855103</td>\n",
       "      <td>26.828459</td>\n",
       "      <td>4131.149902</td>\n",
       "    </tr>\n",
       "    <tr>\n",
       "      <th>1</th>\n",
       "      <td>2000-01-04</td>\n",
       "      <td>37.90625</td>\n",
       "      <td>36.43750</td>\n",
       "      <td>37.3750</td>\n",
       "      <td>36.50000</td>\n",
       "      <td>7220800</td>\n",
       "      <td>36.449051</td>\n",
       "      <td>25.931328</td>\n",
       "      <td>9.645679</td>\n",
       "      <td>55.098766</td>\n",
       "      <td>8.429303</td>\n",
       "      <td>686.987610</td>\n",
       "      <td>25.575693</td>\n",
       "      <td>3901.689941</td>\n",
       "    </tr>\n",
       "    <tr>\n",
       "      <th>2</th>\n",
       "      <td>2000-01-05</td>\n",
       "      <td>37.37500</td>\n",
       "      <td>35.03125</td>\n",
       "      <td>36.0625</td>\n",
       "      <td>36.37500</td>\n",
       "      <td>6763800</td>\n",
       "      <td>36.324226</td>\n",
       "      <td>25.215149</td>\n",
       "      <td>9.708889</td>\n",
       "      <td>53.186329</td>\n",
       "      <td>8.429303</td>\n",
       "      <td>678.211792</td>\n",
       "      <td>25.787706</td>\n",
       "      <td>3877.540039</td>\n",
       "    </tr>\n",
       "    <tr>\n",
       "      <th>3</th>\n",
       "      <td>2000-01-06</td>\n",
       "      <td>37.65625</td>\n",
       "      <td>35.87500</td>\n",
       "      <td>36.3750</td>\n",
       "      <td>37.00000</td>\n",
       "      <td>6338400</td>\n",
       "      <td>36.948353</td>\n",
       "      <td>23.663450</td>\n",
       "      <td>9.304352</td>\n",
       "      <td>47.619072</td>\n",
       "      <td>7.968880</td>\n",
       "      <td>669.006287</td>\n",
       "      <td>24.284380</td>\n",
       "      <td>3727.129883</td>\n",
       "    </tr>\n",
       "    <tr>\n",
       "      <th>4</th>\n",
       "      <td>2000-01-07</td>\n",
       "      <td>36.87500</td>\n",
       "      <td>34.00000</td>\n",
       "      <td>36.8750</td>\n",
       "      <td>35.25000</td>\n",
       "      <td>9467200</td>\n",
       "      <td>35.200794</td>\n",
       "      <td>24.200575</td>\n",
       "      <td>9.658324</td>\n",
       "      <td>50.997696</td>\n",
       "      <td>7.862628</td>\n",
       "      <td>690.415955</td>\n",
       "      <td>25.286606</td>\n",
       "      <td>3882.620117</td>\n",
       "    </tr>\n",
       "  </tbody>\n",
       "</table>\n",
       "</div>"
      ],
      "text/plain": [
       "        Date      High       Low     Open     Close   Volume  Adj Close_MU  \\\n",
       "0 2000-01-03  39.06250  36.25000  38.6875  37.96875  6564600     37.915749   \n",
       "1 2000-01-04  37.90625  36.43750  37.3750  36.50000  7220800     36.449051   \n",
       "2 2000-01-05  37.37500  35.03125  36.0625  36.37500  6763800     36.324226   \n",
       "3 2000-01-06  37.65625  35.87500  36.3750  37.00000  6338400     36.948353   \n",
       "4 2000-01-07  36.87500  34.00000  36.8750  35.25000  9467200     35.200794   \n",
       "\n",
       "   Adj Close_ASML  Adj Close  Adj Close_QCOM  Adj Close_UMC  Adj Close_^SOX  \\\n",
       "0       27.781429   9.582471       60.963448       7.933463      712.855103   \n",
       "1       25.931328   9.645679       55.098766       8.429303      686.987610   \n",
       "2       25.215149   9.708889       53.186329       8.429303      678.211792   \n",
       "3       23.663450   9.304352       47.619072       7.968880      669.006287   \n",
       "4       24.200575   9.658324       50.997696       7.862628      690.415955   \n",
       "\n",
       "   Adj Close_INTC  Adj Close_^IXIC  \n",
       "0       26.828459      4131.149902  \n",
       "1       25.575693      3901.689941  \n",
       "2       25.787706      3877.540039  \n",
       "3       24.284380      3727.129883  \n",
       "4       25.286606      3882.620117  "
      ]
     },
     "execution_count": 113,
     "metadata": {},
     "output_type": "execute_result"
    }
   ],
   "source": [
    "data.head()"
   ]
  },
  {
   "cell_type": "code",
   "execution_count": 114,
   "metadata": {},
   "outputs": [
    {
     "data": {
      "text/html": [
       "<div>\n",
       "<style scoped>\n",
       "    .dataframe tbody tr th:only-of-type {\n",
       "        vertical-align: middle;\n",
       "    }\n",
       "\n",
       "    .dataframe tbody tr th {\n",
       "        vertical-align: top;\n",
       "    }\n",
       "\n",
       "    .dataframe thead th {\n",
       "        text-align: right;\n",
       "    }\n",
       "</style>\n",
       "<table border=\"1\" class=\"dataframe\">\n",
       "  <thead>\n",
       "    <tr style=\"text-align: right;\">\n",
       "      <th></th>\n",
       "      <th>Date</th>\n",
       "      <th>Adj Close_MU</th>\n",
       "      <th>Adj Close_ASML</th>\n",
       "      <th>Adj Close</th>\n",
       "      <th>Adj Close_QCOM</th>\n",
       "      <th>Adj Close_UMC</th>\n",
       "      <th>Adj Close_^SOX</th>\n",
       "      <th>Adj Close_INTC</th>\n",
       "      <th>Adj Close_^IXIC</th>\n",
       "    </tr>\n",
       "  </thead>\n",
       "  <tbody>\n",
       "    <tr>\n",
       "      <th>0</th>\n",
       "      <td>2000-01-03</td>\n",
       "      <td>37.915749</td>\n",
       "      <td>27.781429</td>\n",
       "      <td>9.582471</td>\n",
       "      <td>60.963448</td>\n",
       "      <td>7.933463</td>\n",
       "      <td>712.855103</td>\n",
       "      <td>26.828459</td>\n",
       "      <td>4131.149902</td>\n",
       "    </tr>\n",
       "    <tr>\n",
       "      <th>1</th>\n",
       "      <td>2000-01-04</td>\n",
       "      <td>36.449051</td>\n",
       "      <td>25.931328</td>\n",
       "      <td>9.645679</td>\n",
       "      <td>55.098766</td>\n",
       "      <td>8.429303</td>\n",
       "      <td>686.987610</td>\n",
       "      <td>25.575693</td>\n",
       "      <td>3901.689941</td>\n",
       "    </tr>\n",
       "    <tr>\n",
       "      <th>2</th>\n",
       "      <td>2000-01-05</td>\n",
       "      <td>36.324226</td>\n",
       "      <td>25.215149</td>\n",
       "      <td>9.708889</td>\n",
       "      <td>53.186329</td>\n",
       "      <td>8.429303</td>\n",
       "      <td>678.211792</td>\n",
       "      <td>25.787706</td>\n",
       "      <td>3877.540039</td>\n",
       "    </tr>\n",
       "    <tr>\n",
       "      <th>3</th>\n",
       "      <td>2000-01-06</td>\n",
       "      <td>36.948353</td>\n",
       "      <td>23.663450</td>\n",
       "      <td>9.304352</td>\n",
       "      <td>47.619072</td>\n",
       "      <td>7.968880</td>\n",
       "      <td>669.006287</td>\n",
       "      <td>24.284380</td>\n",
       "      <td>3727.129883</td>\n",
       "    </tr>\n",
       "    <tr>\n",
       "      <th>4</th>\n",
       "      <td>2000-01-07</td>\n",
       "      <td>35.200794</td>\n",
       "      <td>24.200575</td>\n",
       "      <td>9.658324</td>\n",
       "      <td>50.997696</td>\n",
       "      <td>7.862628</td>\n",
       "      <td>690.415955</td>\n",
       "      <td>25.286606</td>\n",
       "      <td>3882.620117</td>\n",
       "    </tr>\n",
       "  </tbody>\n",
       "</table>\n",
       "</div>"
      ],
      "text/plain": [
       "        Date  Adj Close_MU  Adj Close_ASML  Adj Close  Adj Close_QCOM  \\\n",
       "0 2000-01-03     37.915749       27.781429   9.582471       60.963448   \n",
       "1 2000-01-04     36.449051       25.931328   9.645679       55.098766   \n",
       "2 2000-01-05     36.324226       25.215149   9.708889       53.186329   \n",
       "3 2000-01-06     36.948353       23.663450   9.304352       47.619072   \n",
       "4 2000-01-07     35.200794       24.200575   9.658324       50.997696   \n",
       "\n",
       "   Adj Close_UMC  Adj Close_^SOX  Adj Close_INTC  Adj Close_^IXIC  \n",
       "0       7.933463      712.855103       26.828459      4131.149902  \n",
       "1       8.429303      686.987610       25.575693      3901.689941  \n",
       "2       8.429303      678.211792       25.787706      3877.540039  \n",
       "3       7.968880      669.006287       24.284380      3727.129883  \n",
       "4       7.862628      690.415955       25.286606      3882.620117  "
      ]
     },
     "execution_count": 114,
     "metadata": {},
     "output_type": "execute_result"
    }
   ],
   "source": [
    "data.drop(labels=['High', 'Low', 'Open', 'Close', 'Volume'],inplace=True, axis=1)\n",
    "data.head()"
   ]
  },
  {
   "cell_type": "code",
   "execution_count": 115,
   "metadata": {},
   "outputs": [
    {
     "data": {
      "text/html": [
       "<div>\n",
       "<style scoped>\n",
       "    .dataframe tbody tr th:only-of-type {\n",
       "        vertical-align: middle;\n",
       "    }\n",
       "\n",
       "    .dataframe tbody tr th {\n",
       "        vertical-align: top;\n",
       "    }\n",
       "\n",
       "    .dataframe thead th {\n",
       "        text-align: right;\n",
       "    }\n",
       "</style>\n",
       "<table border=\"1\" class=\"dataframe\">\n",
       "  <thead>\n",
       "    <tr style=\"text-align: right;\">\n",
       "      <th></th>\n",
       "      <th>Date</th>\n",
       "      <th>Adj Close_MU</th>\n",
       "      <th>Adj Close_ASML</th>\n",
       "      <th>Adj Close_TSM</th>\n",
       "      <th>Adj Close_QCOM</th>\n",
       "      <th>Adj Close_UMC</th>\n",
       "      <th>Adj Close_^SOX</th>\n",
       "      <th>Adj Close_INTC</th>\n",
       "      <th>Adj Close_^IXIC</th>\n",
       "    </tr>\n",
       "  </thead>\n",
       "  <tbody>\n",
       "    <tr>\n",
       "      <th>0</th>\n",
       "      <td>2000-01-03</td>\n",
       "      <td>37.915749</td>\n",
       "      <td>27.781429</td>\n",
       "      <td>9.582471</td>\n",
       "      <td>60.963448</td>\n",
       "      <td>7.933463</td>\n",
       "      <td>712.855103</td>\n",
       "      <td>26.828459</td>\n",
       "      <td>4131.149902</td>\n",
       "    </tr>\n",
       "    <tr>\n",
       "      <th>1</th>\n",
       "      <td>2000-01-04</td>\n",
       "      <td>36.449051</td>\n",
       "      <td>25.931328</td>\n",
       "      <td>9.645679</td>\n",
       "      <td>55.098766</td>\n",
       "      <td>8.429303</td>\n",
       "      <td>686.987610</td>\n",
       "      <td>25.575693</td>\n",
       "      <td>3901.689941</td>\n",
       "    </tr>\n",
       "    <tr>\n",
       "      <th>2</th>\n",
       "      <td>2000-01-05</td>\n",
       "      <td>36.324226</td>\n",
       "      <td>25.215149</td>\n",
       "      <td>9.708889</td>\n",
       "      <td>53.186329</td>\n",
       "      <td>8.429303</td>\n",
       "      <td>678.211792</td>\n",
       "      <td>25.787706</td>\n",
       "      <td>3877.540039</td>\n",
       "    </tr>\n",
       "    <tr>\n",
       "      <th>3</th>\n",
       "      <td>2000-01-06</td>\n",
       "      <td>36.948353</td>\n",
       "      <td>23.663450</td>\n",
       "      <td>9.304352</td>\n",
       "      <td>47.619072</td>\n",
       "      <td>7.968880</td>\n",
       "      <td>669.006287</td>\n",
       "      <td>24.284380</td>\n",
       "      <td>3727.129883</td>\n",
       "    </tr>\n",
       "    <tr>\n",
       "      <th>4</th>\n",
       "      <td>2000-01-07</td>\n",
       "      <td>35.200794</td>\n",
       "      <td>24.200575</td>\n",
       "      <td>9.658324</td>\n",
       "      <td>50.997696</td>\n",
       "      <td>7.862628</td>\n",
       "      <td>690.415955</td>\n",
       "      <td>25.286606</td>\n",
       "      <td>3882.620117</td>\n",
       "    </tr>\n",
       "  </tbody>\n",
       "</table>\n",
       "</div>"
      ],
      "text/plain": [
       "        Date  Adj Close_MU  Adj Close_ASML  Adj Close_TSM  Adj Close_QCOM  \\\n",
       "0 2000-01-03     37.915749       27.781429       9.582471       60.963448   \n",
       "1 2000-01-04     36.449051       25.931328       9.645679       55.098766   \n",
       "2 2000-01-05     36.324226       25.215149       9.708889       53.186329   \n",
       "3 2000-01-06     36.948353       23.663450       9.304352       47.619072   \n",
       "4 2000-01-07     35.200794       24.200575       9.658324       50.997696   \n",
       "\n",
       "   Adj Close_UMC  Adj Close_^SOX  Adj Close_INTC  Adj Close_^IXIC  \n",
       "0       7.933463      712.855103       26.828459      4131.149902  \n",
       "1       8.429303      686.987610       25.575693      3901.689941  \n",
       "2       8.429303      678.211792       25.787706      3877.540039  \n",
       "3       7.968880      669.006287       24.284380      3727.129883  \n",
       "4       7.862628      690.415955       25.286606      3882.620117  "
      ]
     },
     "execution_count": 115,
     "metadata": {},
     "output_type": "execute_result"
    }
   ],
   "source": [
    "data.rename(columns={'Adj Close': 'Adj Close_TSM'}, inplace=True)\n",
    "data.head()"
   ]
  },
  {
   "cell_type": "code",
   "execution_count": 116,
   "metadata": {},
   "outputs": [
    {
     "name": "stdout",
     "output_type": "stream",
     "text": [
      "Column Names before change: ['Date', 'Adj Close_MU', 'Adj Close_ASML', 'Adj Close_TSM', 'Adj Close_QCOM', 'Adj Close_UMC', 'Adj Close_^SOX', 'Adj Close_INTC', 'Adj Close_^IXIC']\n",
      "\n",
      "Column Names after change: ['DATE', 'MU', 'ASML', 'TSM', 'QCOM', 'UMC', '^SOX', 'INTC', '^IXIC']\n"
     ]
    }
   ],
   "source": [
    "print(f'Column Names before change: {list(data.columns)}')\n",
    "df2 = data.copy()\n",
    "cols = df2.columns.tolist()\n",
    "cols = [col.replace('Adj Close_', '') for col in cols]\n",
    "#cols = [col.replace('#', 'num') for col in cols]\n",
    "cols = [col.upper() for col in cols]\n",
    "df2.columns = cols\n",
    "\n",
    "print()\n",
    "print(f'Column Names after change: {list(df2.columns)}')\n",
    "data = df2 #de-comment to make changes inplace"
   ]
  },
  {
   "cell_type": "code",
   "execution_count": 117,
   "metadata": {},
   "outputs": [],
   "source": [
    "data.set_index(\"DATE\", inplace= True)"
   ]
  },
  {
   "cell_type": "code",
   "execution_count": 118,
   "metadata": {},
   "outputs": [
    {
     "data": {
      "image/png": "[encoded data removed]",
      "text/plain": [
       "<Figure size 432x288 with 2 Axes>"
      ]
     },
     "metadata": {},
     "output_type": "display_data"
    }
   ],
   "source": [
    "sns.heatmap(data.corr(), annot=True, cmap=\"YlGnBu\")\n",
    "plt.show()"
   ]
  },
  {
   "cell_type": "code",
   "execution_count": 119,
   "metadata": {},
   "outputs": [
    {
     "name": "stdout",
     "output_type": "stream",
     "text": [
      "<class 'pandas.core.frame.DataFrame'>\n",
      "DatetimeIndex: 5483 entries, 2000-01-03 to 2021-10-15\n",
      "Data columns (total 8 columns):\n",
      " #   Column  Non-Null Count  Dtype  \n",
      "---  ------  --------------  -----  \n",
      " 0   MU      5483 non-null   float64\n",
      " 1   ASML    5483 non-null   float64\n",
      " 2   TSM     5483 non-null   float64\n",
      " 3   QCOM    5483 non-null   float64\n",
      " 4   UMC     5303 non-null   float64\n",
      " 5   ^SOX    5483 non-null   float64\n",
      " 6   INTC    5483 non-null   float64\n",
      " 7   ^IXIC   5483 non-null   float64\n",
      "dtypes: float64(8)\n",
      "memory usage: 385.5 KB\n"
     ]
    }
   ],
   "source": [
    "data.info();"
   ]
  },
  {
   "cell_type": "code",
   "execution_count": 120,
   "metadata": {},
   "outputs": [
    {
     "name": "stdout",
     "output_type": "stream",
     "text": [
      "  features  vif_Factor\n",
      "0       MU   18.967472\n",
      "1     ASML   45.037875\n",
      "2      TSM   68.518168\n",
      "3     QCOM   29.221260\n",
      "4     ^SOX  127.794954\n",
      "5     INTC   83.048891\n",
      "6    ^IXIC  223.226550\n"
     ]
    }
   ],
   "source": [
    "X=data.drop([\"UMC\"], axis=1)\n",
    "vif = pd.DataFrame()\n",
    "vif[\"features\"] = X.columns\n",
    "vif[\"vif_Factor\"] = [variance_inflation_factor(X.values, i) for i in range(X.shape[1])]\n",
    "print(vif)"
   ]
  },
  {
   "cell_type": "code",
   "execution_count": 167,
   "metadata": {},
   "outputs": [
    {
     "ename": "TypeError",
     "evalue": "setp() missing 1 required positional argument: 'obj'",
     "output_type": "error",
     "traceback": [
      "\u001b[0;31m---------------------------------------------------------------------------\u001b[0m",
      "\u001b[0;31mTypeError\u001b[0m                                 Traceback (most recent call last)",
      "\u001b[0;32m/var/folders/3r/gzbp9xfx0612n9bv_qj8rkqw0000gn/T/ipykernel_1728/2038391019.py\u001b[0m in \u001b[0;36m<module>\u001b[0;34m\u001b[0m\n\u001b[1;32m      1\u001b[0m \u001b[0;31m#data = data.rolling(7).mean()\u001b[0m\u001b[0;34m\u001b[0m\u001b[0;34m\u001b[0m\u001b[0;34m\u001b[0m\u001b[0m\n\u001b[1;32m      2\u001b[0m \u001b[0msns\u001b[0m\u001b[0;34m.\u001b[0m\u001b[0mset_theme\u001b[0m\u001b[0;34m(\u001b[0m\u001b[0mstyle\u001b[0m\u001b[0;34m=\u001b[0m\u001b[0;34m\"whitegrid\"\u001b[0m\u001b[0;34m)\u001b[0m\u001b[0;34m\u001b[0m\u001b[0;34m\u001b[0m\u001b[0m\n\u001b[0;32m----> 3\u001b[0;31m \u001b[0msns\u001b[0m\u001b[0;34m.\u001b[0m\u001b[0mset\u001b[0m\u001b[0;34m(\u001b[0m\u001b[0mplt\u001b[0m\u001b[0;34m.\u001b[0m\u001b[0msetp\u001b[0m\u001b[0;34m(\u001b[0m\u001b[0myticks\u001b[0m\u001b[0;34m=\u001b[0m\u001b[0;34m[\u001b[0m\u001b[0;36m0\u001b[0m\u001b[0;34m,\u001b[0m\u001b[0;36m5\u001b[0m\u001b[0;34m,\u001b[0m\u001b[0;36m5\u001b[0m\u001b[0;34m]\u001b[0m\u001b[0;34m)\u001b[0m\u001b[0;34m)\u001b[0m\u001b[0;34m\u001b[0m\u001b[0;34m\u001b[0m\u001b[0m\n\u001b[0m\u001b[1;32m      4\u001b[0m \u001b[0;34m\u001b[0m\u001b[0m\n\u001b[1;32m      5\u001b[0m \u001b[0msns\u001b[0m\u001b[0;34m.\u001b[0m\u001b[0mlineplot\u001b[0m\u001b[0;34m(\u001b[0m\u001b[0mdata\u001b[0m\u001b[0;34m=\u001b[0m\u001b[0mdata\u001b[0m\u001b[0;34m,\u001b[0m \u001b[0mpalette\u001b[0m\u001b[0;34m=\u001b[0m\u001b[0;34m\"tab10\"\u001b[0m\u001b[0;34m)\u001b[0m\u001b[0;34m;\u001b[0m\u001b[0;34m\u001b[0m\u001b[0;34m\u001b[0m\u001b[0m\n",
      "\u001b[0;31mTypeError\u001b[0m: setp() missing 1 required positional argument: 'obj'"
     ]
    }
   ],
   "source": [
    "#data = data.rolling(7).mean()\n",
    "sns.set_theme(style=\"whitegrid\")\n",
    "sns.set(plt.setp(yticks=[0,5,5]))\n",
    "\n",
    "sns.lineplot(data=data, palette=\"tab10\");"
   ]
  },
  {
   "cell_type": "code",
   "execution_count": null,
   "metadata": {},
   "outputs": [],
   "source": []
  }
 ],
 "metadata": {
  "interpreter": {
   "hash": "e24ef602dd1cff1cdfac3b8db5399c8869f5a685f135d2ae757c9cdd9db2684b"
  },
  "kernelspec": {
   "display_name": "Python 3.9.6 64-bit ('mach_lern': conda)",
   "name": "python3"
  },
  "language_info": {
   "codemirror_mode": {
    "name": "ipython",
    "version": 3
   },
   "file_extension": ".py",
   "mimetype": "text/x-python",
   "name": "python",
   "nbconvert_exporter": "python",
   "pygments_lexer": "ipython3",
   "version": "3.9.6"
  },
  "orig_nbformat": 4
 },
 "nbformat": 4,
 "nbformat_minor": 2
}
